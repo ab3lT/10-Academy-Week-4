{
 "cells": [
  {
   "cell_type": "markdown",
   "metadata": {},
   "source": [
    "# Sales Prediction "
   ]
  },
  {
   "cell_type": "code",
   "execution_count": 1,
   "metadata": {},
   "outputs": [],
   "source": [
    "import sys, os\n",
    "sys.path.append(os.path.abspath(os.path.join('..', 'scripts')))"
   ]
  },
  {
   "cell_type": "code",
   "execution_count": 2,
   "metadata": {},
   "outputs": [],
   "source": [
    "\n",
    "import data_processing as pd \n",
    "import eda as eda"
   ]
  },
  {
   "cell_type": "code",
   "execution_count": 3,
   "metadata": {},
   "outputs": [
    {
     "name": "stderr",
     "output_type": "stream",
     "text": [
      "2025-01-14 21:32:24,200 - INFO - Loading data...\n",
      "/home/abel/CODE/KiFiya/10-Academy-Week-4/scripts/eda.py:16: DtypeWarning: Columns (7) have mixed types. Specify dtype option on import or set low_memory=False.\n",
      "  dataset = pd.read_csv(data_path)\n",
      "2025-01-14 21:32:25,789 - INFO - Data loaded successfully from ../data/train.csv\n",
      "2025-01-14 21:32:25,791 - INFO - Loading data...\n",
      "2025-01-14 21:32:25,799 - INFO - Data loaded successfully from ../data/store.csv\n",
      "2025-01-14 21:32:25,801 - INFO - Loading data...\n",
      "2025-01-14 21:32:25,814 - INFO - Data loaded successfully from ../data/sample_submission.csv\n",
      "2025-01-14 21:32:25,816 - INFO - Loading data...\n",
      "2025-01-14 21:32:25,876 - INFO - Data loaded successfully from ../data/test.csv\n"
     ]
    }
   ],
   "source": [
    "# load data\n",
    "train_data = eda.load_data('../data/train.csv')\n",
    "store_data = eda.load_data('../data/store.csv')\n",
    "sample_data = eda.load_data('../data/sample_submission.csv')\n",
    "test_data = eda.load_data('../data/test.csv')\n"
   ]
  },
  {
   "cell_type": "code",
   "execution_count": null,
   "metadata": {},
   "outputs": [],
   "source": []
  }
 ],
 "metadata": {
  "kernelspec": {
   "display_name": ".venv",
   "language": "python",
   "name": "python3"
  },
  "language_info": {
   "codemirror_mode": {
    "name": "ipython",
    "version": 3
   },
   "file_extension": ".py",
   "mimetype": "text/x-python",
   "name": "python",
   "nbconvert_exporter": "python",
   "pygments_lexer": "ipython3",
   "version": "3.12.3"
  }
 },
 "nbformat": 4,
 "nbformat_minor": 2
}
