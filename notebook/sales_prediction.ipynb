{
 "cells": [
  {
   "cell_type": "markdown",
   "metadata": {},
   "source": [
    "# Sales Prediction "
   ]
  },
  {
   "cell_type": "code",
   "execution_count": 1,
   "metadata": {},
   "outputs": [],
   "source": [
    "import sys, os\n",
    "sys.path.append(os.path.abspath(os.path.join('..', 'scripts')))"
   ]
  },
  {
   "cell_type": "code",
   "execution_count": 9,
   "metadata": {},
   "outputs": [],
   "source": [
    "\n",
    "import data_processing as pd \n",
    "import eda as eda\n"
   ]
  },
  {
   "cell_type": "code",
   "execution_count": 3,
   "metadata": {},
   "outputs": [
    {
     "name": "stderr",
     "output_type": "stream",
     "text": [
      "2025-01-14 21:32:24,200 - INFO - Loading data...\n",
      "/home/abel/CODE/KiFiya/10-Academy-Week-4/scripts/eda.py:16: DtypeWarning: Columns (7) have mixed types. Specify dtype option on import or set low_memory=False.\n",
      "  dataset = pd.read_csv(data_path)\n",
      "2025-01-14 21:32:25,789 - INFO - Data loaded successfully from ../data/train.csv\n",
      "2025-01-14 21:32:25,791 - INFO - Loading data...\n",
      "2025-01-14 21:32:25,799 - INFO - Data loaded successfully from ../data/store.csv\n",
      "2025-01-14 21:32:25,801 - INFO - Loading data...\n",
      "2025-01-14 21:32:25,814 - INFO - Data loaded successfully from ../data/sample_submission.csv\n",
      "2025-01-14 21:32:25,816 - INFO - Loading data...\n",
      "2025-01-14 21:32:25,876 - INFO - Data loaded successfully from ../data/test.csv\n"
     ]
    }
   ],
   "source": [
    "# load data\n",
    "train_data = eda.load_data('../data/train.csv')\n",
    "store_data = eda.load_data('../data/store.csv')\n",
    "sample_data = eda.load_data('../data/sample_submission.csv')\n",
    "test_data = eda.load_data('../data/test.csv')\n"
   ]
  },
  {
   "cell_type": "code",
   "execution_count": 5,
   "metadata": {},
   "outputs": [
    {
     "name": "stderr",
     "output_type": "stream",
     "text": [
      "/home/abel/CODE/KiFiya/10-Academy-Week-4/scripts/data_processing.py:5: DtypeWarning: Columns (7) have mixed types. Specify dtype option on import or set low_memory=False.\n",
      "  data = pd.read_csv(file_path)\n",
      "/home/abel/CODE/KiFiya/10-Academy-Week-4/scripts/data_processing.py:37: FutureWarning: DataFrame.fillna with 'method' is deprecated and will raise in a future version. Use obj.ffill() or obj.bfill() instead.\n",
      "  return data.fillna(method='ffill')\n"
     ]
    }
   ],
   "source": [
    "\n",
    "data = pd.load_data('../data/train.csv')\n",
    "data = pd.extract_features(data)\n",
    "data = pd.handle_missing_values(data)"
   ]
  },
  {
   "cell_type": "code",
   "execution_count": 8,
   "metadata": {},
   "outputs": [
    {
     "name": "stdout",
     "output_type": "stream",
     "text": [
      "Non-numeric values found in column: StateHoliday\n",
      "['0' 'a' 'b' 'c' 0]\n"
     ]
    }
   ],
   "source": [
    "\n",
    "# Check for non-numeric values in each column\n",
    "import pandas as pad\n",
    "feature_columns = ['Weekday', 'IsWeekend', 'DaysToHoliday', 'DaysAfterHoliday',\n",
    "                       'BeginningOfMonth', 'MidMonth', 'EndOfMonth', 'Season', 'Open', 'Promo', 'StateHoliday', 'SchoolHoliday']\n",
    "for col in feature_columns:\n",
    "    if not pad.api.types.is_numeric_dtype(data[col]):\n",
    "        print(f\"Non-numeric values found in column: {col}\")\n",
    "        print(data[col].unique())\n"
   ]
  },
  {
   "cell_type": "code",
   "execution_count": 10,
   "metadata": {},
   "outputs": [
    {
     "name": "stderr",
     "output_type": "stream",
     "text": [
      "/home/abel/CODE/KiFiya/10-Academy-Week-4/scripts/data_processing.py:44: FutureWarning: A value is trying to be set on a copy of a DataFrame or Series through chained assignment using an inplace method.\n",
      "The behavior will change in pandas 3.0. This inplace method will never work because the intermediate object on which we are setting values always behaves as a copy.\n",
      "\n",
      "For example, when doing 'df[col].method(value, inplace=True)', try using 'df.method({col: value}, inplace=True)' or df[col] = df[col].method(value) instead, to perform the operation inplace on the original object.\n",
      "\n",
      "\n",
      "  data['StateHoliday'].fillna(0, inplace=True)\n"
     ]
    }
   ],
   "source": [
    "\n",
    "data = pd.convert_categorical(data)"
   ]
  },
  {
   "cell_type": "code",
   "execution_count": 11,
   "metadata": {},
   "outputs": [
    {
     "data": {
      "text/html": [
       "<div>\n",
       "<style scoped>\n",
       "    .dataframe tbody tr th:only-of-type {\n",
       "        vertical-align: middle;\n",
       "    }\n",
       "\n",
       "    .dataframe tbody tr th {\n",
       "        vertical-align: top;\n",
       "    }\n",
       "\n",
       "    .dataframe thead th {\n",
       "        text-align: right;\n",
       "    }\n",
       "</style>\n",
       "<table border=\"1\" class=\"dataframe\">\n",
       "  <thead>\n",
       "    <tr style=\"text-align: right;\">\n",
       "      <th></th>\n",
       "      <th>Store</th>\n",
       "      <th>DayOfWeek</th>\n",
       "      <th>Date</th>\n",
       "      <th>Sales</th>\n",
       "      <th>Customers</th>\n",
       "      <th>Open</th>\n",
       "      <th>Promo</th>\n",
       "      <th>StateHoliday</th>\n",
       "      <th>Weekday</th>\n",
       "      <th>IsWeekend</th>\n",
       "      <th>DaysToHoliday</th>\n",
       "      <th>DaysAfterHoliday</th>\n",
       "      <th>BeginningOfMonth</th>\n",
       "      <th>MidMonth</th>\n",
       "      <th>EndOfMonth</th>\n",
       "      <th>Season</th>\n",
       "      <th>SchoolHoliday_1</th>\n",
       "    </tr>\n",
       "  </thead>\n",
       "  <tbody>\n",
       "    <tr>\n",
       "      <th>0</th>\n",
       "      <td>1</td>\n",
       "      <td>5</td>\n",
       "      <td>2015-07-31</td>\n",
       "      <td>5263</td>\n",
       "      <td>555</td>\n",
       "      <td>0.452399</td>\n",
       "      <td>1.273237</td>\n",
       "      <td>-0.159217</td>\n",
       "      <td>0.501484</td>\n",
       "      <td>-0.630672</td>\n",
       "      <td>-1.734123</td>\n",
       "      <td>0.0</td>\n",
       "      <td>-0.700515</td>\n",
       "      <td>-0.700517</td>\n",
       "      <td>1.388213</td>\n",
       "      <td>0.599358</td>\n",
       "      <td>True</td>\n",
       "    </tr>\n",
       "    <tr>\n",
       "      <th>1</th>\n",
       "      <td>2</td>\n",
       "      <td>5</td>\n",
       "      <td>2015-07-31</td>\n",
       "      <td>6064</td>\n",
       "      <td>625</td>\n",
       "      <td>0.452399</td>\n",
       "      <td>1.273237</td>\n",
       "      <td>-0.159217</td>\n",
       "      <td>0.501484</td>\n",
       "      <td>-0.630672</td>\n",
       "      <td>-1.734123</td>\n",
       "      <td>0.0</td>\n",
       "      <td>-0.700515</td>\n",
       "      <td>-0.700517</td>\n",
       "      <td>1.388213</td>\n",
       "      <td>0.599358</td>\n",
       "      <td>True</td>\n",
       "    </tr>\n",
       "    <tr>\n",
       "      <th>2</th>\n",
       "      <td>3</td>\n",
       "      <td>5</td>\n",
       "      <td>2015-07-31</td>\n",
       "      <td>8314</td>\n",
       "      <td>821</td>\n",
       "      <td>0.452399</td>\n",
       "      <td>1.273237</td>\n",
       "      <td>-0.159217</td>\n",
       "      <td>0.501484</td>\n",
       "      <td>-0.630672</td>\n",
       "      <td>-1.734123</td>\n",
       "      <td>0.0</td>\n",
       "      <td>-0.700515</td>\n",
       "      <td>-0.700517</td>\n",
       "      <td>1.388213</td>\n",
       "      <td>0.599358</td>\n",
       "      <td>True</td>\n",
       "    </tr>\n",
       "    <tr>\n",
       "      <th>3</th>\n",
       "      <td>4</td>\n",
       "      <td>5</td>\n",
       "      <td>2015-07-31</td>\n",
       "      <td>13995</td>\n",
       "      <td>1498</td>\n",
       "      <td>0.452399</td>\n",
       "      <td>1.273237</td>\n",
       "      <td>-0.159217</td>\n",
       "      <td>0.501484</td>\n",
       "      <td>-0.630672</td>\n",
       "      <td>-1.734123</td>\n",
       "      <td>0.0</td>\n",
       "      <td>-0.700515</td>\n",
       "      <td>-0.700517</td>\n",
       "      <td>1.388213</td>\n",
       "      <td>0.599358</td>\n",
       "      <td>True</td>\n",
       "    </tr>\n",
       "    <tr>\n",
       "      <th>4</th>\n",
       "      <td>5</td>\n",
       "      <td>5</td>\n",
       "      <td>2015-07-31</td>\n",
       "      <td>4822</td>\n",
       "      <td>559</td>\n",
       "      <td>0.452399</td>\n",
       "      <td>1.273237</td>\n",
       "      <td>-0.159217</td>\n",
       "      <td>0.501484</td>\n",
       "      <td>-0.630672</td>\n",
       "      <td>-1.734123</td>\n",
       "      <td>0.0</td>\n",
       "      <td>-0.700515</td>\n",
       "      <td>-0.700517</td>\n",
       "      <td>1.388213</td>\n",
       "      <td>0.599358</td>\n",
       "      <td>True</td>\n",
       "    </tr>\n",
       "  </tbody>\n",
       "</table>\n",
       "</div>"
      ],
      "text/plain": [
       "   Store  DayOfWeek       Date  Sales  Customers      Open     Promo  \\\n",
       "0      1          5 2015-07-31   5263        555  0.452399  1.273237   \n",
       "1      2          5 2015-07-31   6064        625  0.452399  1.273237   \n",
       "2      3          5 2015-07-31   8314        821  0.452399  1.273237   \n",
       "3      4          5 2015-07-31  13995       1498  0.452399  1.273237   \n",
       "4      5          5 2015-07-31   4822        559  0.452399  1.273237   \n",
       "\n",
       "   StateHoliday   Weekday  IsWeekend  DaysToHoliday  DaysAfterHoliday  \\\n",
       "0     -0.159217  0.501484  -0.630672      -1.734123               0.0   \n",
       "1     -0.159217  0.501484  -0.630672      -1.734123               0.0   \n",
       "2     -0.159217  0.501484  -0.630672      -1.734123               0.0   \n",
       "3     -0.159217  0.501484  -0.630672      -1.734123               0.0   \n",
       "4     -0.159217  0.501484  -0.630672      -1.734123               0.0   \n",
       "\n",
       "   BeginningOfMonth  MidMonth  EndOfMonth    Season  SchoolHoliday_1  \n",
       "0         -0.700515 -0.700517    1.388213  0.599358             True  \n",
       "1         -0.700515 -0.700517    1.388213  0.599358             True  \n",
       "2         -0.700515 -0.700517    1.388213  0.599358             True  \n",
       "3         -0.700515 -0.700517    1.388213  0.599358             True  \n",
       "4         -0.700515 -0.700517    1.388213  0.599358             True  "
      ]
     },
     "execution_count": 11,
     "metadata": {},
     "output_type": "execute_result"
    }
   ],
   "source": [
    "\n",
    "feature_columns = ['Weekday', 'IsWeekend', 'DaysToHoliday', 'DaysAfterHoliday',\n",
    "                   'BeginningOfMonth', 'MidMonth', 'EndOfMonth', 'Season', 'Open', 'Promo', 'StateHoliday']\n",
    "# Scale features\n",
    "data = pd.scale_features(data, feature_columns)\n",
    "data.head()"
   ]
  },
  {
   "cell_type": "markdown",
   "metadata": {},
   "source": [
    "## Train-test Split"
   ]
  },
  {
   "cell_type": "code",
   "execution_count": 12,
   "metadata": {},
   "outputs": [],
   "source": [
    "# Train-test split\n",
    "X_train, X_test, y_train, y_test = pd.split_data(data, feature_columns, 'Sales')"
   ]
  },
  {
   "cell_type": "markdown",
   "metadata": {},
   "source": [
    "## Train Random Forest model"
   ]
  },
  {
   "cell_type": "code",
   "execution_count": 13,
   "metadata": {},
   "outputs": [],
   "source": [
    "import model_training as mt\n",
    "# Train Random Forest model\n",
    "pipeline = mt.build_model_pipeline()\n",
    "trained_pipeline = mt.train_model(pipeline, X_train, y_train)"
   ]
  },
  {
   "cell_type": "markdown",
   "metadata": {},
   "source": [
    "## Evaluate model"
   ]
  },
  {
   "cell_type": "code",
   "execution_count": 14,
   "metadata": {},
   "outputs": [
    {
     "name": "stdout",
     "output_type": "stream",
     "text": [
      "Mean Absolute Error: 1595.1713566297485\n"
     ]
    }
   ],
   "source": [
    "import model_evaluation as ev\n",
    "mae, y_pred = ev.evaluate_model(trained_pipeline, X_test, y_test)\n",
    "print(f'Mean Absolute Error: {mae}')"
   ]
  },
  {
   "cell_type": "markdown",
   "metadata": {},
   "source": [
    "## Feature importance"
   ]
  },
  {
   "cell_type": "code",
   "execution_count": 15,
   "metadata": {},
   "outputs": [
    {
     "data": {
      "text/html": [
       "<div>\n",
       "<style scoped>\n",
       "    .dataframe tbody tr th:only-of-type {\n",
       "        vertical-align: middle;\n",
       "    }\n",
       "\n",
       "    .dataframe tbody tr th {\n",
       "        vertical-align: top;\n",
       "    }\n",
       "\n",
       "    .dataframe thead th {\n",
       "        text-align: right;\n",
       "    }\n",
       "</style>\n",
       "<table border=\"1\" class=\"dataframe\">\n",
       "  <thead>\n",
       "    <tr style=\"text-align: right;\">\n",
       "      <th></th>\n",
       "      <th>Feature</th>\n",
       "      <th>Importance</th>\n",
       "    </tr>\n",
       "  </thead>\n",
       "  <tbody>\n",
       "    <tr>\n",
       "      <th>8</th>\n",
       "      <td>Open</td>\n",
       "      <td>0.770227</td>\n",
       "    </tr>\n",
       "    <tr>\n",
       "      <th>9</th>\n",
       "      <td>Promo</td>\n",
       "      <td>0.122902</td>\n",
       "    </tr>\n",
       "    <tr>\n",
       "      <th>2</th>\n",
       "      <td>DaysToHoliday</td>\n",
       "      <td>0.058462</td>\n",
       "    </tr>\n",
       "    <tr>\n",
       "      <th>0</th>\n",
       "      <td>Weekday</td>\n",
       "      <td>0.036357</td>\n",
       "    </tr>\n",
       "    <tr>\n",
       "      <th>4</th>\n",
       "      <td>BeginningOfMonth</td>\n",
       "      <td>0.003225</td>\n",
       "    </tr>\n",
       "    <tr>\n",
       "      <th>7</th>\n",
       "      <td>Season</td>\n",
       "      <td>0.002788</td>\n",
       "    </tr>\n",
       "    <tr>\n",
       "      <th>5</th>\n",
       "      <td>MidMonth</td>\n",
       "      <td>0.002509</td>\n",
       "    </tr>\n",
       "    <tr>\n",
       "      <th>6</th>\n",
       "      <td>EndOfMonth</td>\n",
       "      <td>0.002339</td>\n",
       "    </tr>\n",
       "    <tr>\n",
       "      <th>1</th>\n",
       "      <td>IsWeekend</td>\n",
       "      <td>0.000935</td>\n",
       "    </tr>\n",
       "    <tr>\n",
       "      <th>10</th>\n",
       "      <td>StateHoliday</td>\n",
       "      <td>0.000258</td>\n",
       "    </tr>\n",
       "    <tr>\n",
       "      <th>3</th>\n",
       "      <td>DaysAfterHoliday</td>\n",
       "      <td>0.000000</td>\n",
       "    </tr>\n",
       "  </tbody>\n",
       "</table>\n",
       "</div>"
      ],
      "text/plain": [
       "             Feature  Importance\n",
       "8               Open    0.770227\n",
       "9              Promo    0.122902\n",
       "2      DaysToHoliday    0.058462\n",
       "0            Weekday    0.036357\n",
       "4   BeginningOfMonth    0.003225\n",
       "7             Season    0.002788\n",
       "5           MidMonth    0.002509\n",
       "6         EndOfMonth    0.002339\n",
       "1          IsWeekend    0.000935\n",
       "10      StateHoliday    0.000258\n",
       "3   DaysAfterHoliday    0.000000"
      ]
     },
     "execution_count": 15,
     "metadata": {},
     "output_type": "execute_result"
    }
   ],
   "source": [
    "# Feature importance\n",
    "importance_df = ev.feature_importance(trained_pipeline, feature_columns)\n",
    "importance_df"
   ]
  }
 ],
 "metadata": {
  "kernelspec": {
   "display_name": ".venv",
   "language": "python",
   "name": "python3"
  },
  "language_info": {
   "codemirror_mode": {
    "name": "ipython",
    "version": 3
   },
   "file_extension": ".py",
   "mimetype": "text/x-python",
   "name": "python",
   "nbconvert_exporter": "python",
   "pygments_lexer": "ipython3",
   "version": "3.12.3"
  }
 },
 "nbformat": 4,
 "nbformat_minor": 2
}
