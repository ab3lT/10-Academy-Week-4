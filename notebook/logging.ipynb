{
 "cells": [
  {
   "cell_type": "code",
   "execution_count": 1,
   "metadata": {},
   "outputs": [],
   "source": [
    "import logging"
   ]
  },
  {
   "cell_type": "code",
   "execution_count": null,
   "metadata": {},
   "outputs": [],
   "source": [
    "import logging\n",
    "\n",
    "# Configure logging\n",
    "logging.basicConfig(\n",
    "    level=logging.INFO,\n",
    "    format='%(asctime)s - %(levelname)s - %(message)s',\n",
    "    handlers=[\n",
    "        logging.FileHandler(\"eda_task_1.log\"),\n",
    "        logging.StreamHandler()\n",
    "    ]\n",
    ")\n",
    "\n",
    "logging.info(\"Starting EDA for customer purchasing behavior.\")\n",
    "\n",
    "# Data loading\n",
    "try:\n",
    "    logging.info(\"Loading dataset...\")\n",
    "    train_data = eda.load_data('/content/drive/MyDrive/KIFIYA Projects/Rossmann-Pharmaceuticals/data/train.csv')\n",
    "    store_data = eda.load_data('/content/drive/MyDrive/KIFIYA Projects/Rossmann-Pharmaceuticals/data/store.csv')\n",
    "    sample_data = eda.load_data('/content/drive/MyDrive/KIFIYA Projects/Rossmann-Pharmaceuticals/data/sample_submission.csv')\n",
    "    test_data = eda.load_data('/content/drive/MyDrive/KIFIYA Projects/Rossmann-Pharmaceuticals/data/test.csv')\n",
    "    logging.info(\"Dataset loaded successfully.\")\n",
    "except Exception as e:\n",
    "    logging.error(f\"Error loading dataset: {e}\")\n",
    "\n",
    "# Data cleaning process\n",
    "try:\n",
    "    logging.info(\"Starting data cleaning process...\")\n",
    "    cleaned_store_data = eda.clean_data(store_data)\n",
    "    cleaned_train_data = eda.clean_data(train_data)\n",
    "    cleaned_test_data = eda.clean_data(test_data)\n",
    "    cleaned_sample_data = eda.clean_data(sample_data)\n",
    "    logging.info(\"Data cleaning completed successfully.\")\n",
    "except Exception as e:\n",
    "    logging.error(f\"Error during data cleaning: {e}\")\n",
    "\n",
    "# Visualization process\n",
    "try:\n",
    "    logging.info(\"Visualizing data...\")\n",
    "    eda.plot_promotion_distribution(cleaned_train_data, cleaned_test_data)\n",
    "    eda.holiday_analysis(cleaned_train_data)\n",
    "    eda.seasonal_analysis_with_holidays(cleaned_train_data)\n",
    "    eda.customer_behavior_analysis(cleaned_train_data)\n",
    "    eda.analyze_promotions(cleaned_train_data)\n",
    "    eda.promo_effectiveness_analysis(cleaned_train_data, cleaned_store_data)\n",
    "    eda.store_hours_analysis(cleaned_train_data)\n",
    "    eda.store_opening_impact(cleaned_train_data)\n",
    "    open_weekday_stores, weekend_sales_data = eda.analyze_weekday_open_stores(cleaned_train_data)\n",
    "    assortment_sales_summary = eda.analyze_assortment_effect_on_sales(cleaned_store_data, cleaned_train_data)\n",
    "    city_center_analysis = eda.analyze_competitor_distance_effect(cleaned_store_data, cleaned_train_data)\n",
    "    sales_comparison = eda.analyze_new_competitors_effect(cleaned_store_data, cleaned_train_data)\n",
    "    logging.info(\"Visualization completed successfully.\")\n",
    "except Exception as e:\n",
    "    logging.error(f\"Error during visualization: {e}\")\n",
    "\n",
    "logging.info(\"EDA completed successfully.\")"
   ]
  }
 ],
 "metadata": {
  "kernelspec": {
   "display_name": ".venv",
   "language": "python",
   "name": "python3"
  },
  "language_info": {
   "codemirror_mode": {
    "name": "ipython",
    "version": 3
   },
   "file_extension": ".py",
   "mimetype": "text/x-python",
   "name": "python",
   "nbconvert_exporter": "python",
   "pygments_lexer": "ipython3",
   "version": "3.12.3"
  }
 },
 "nbformat": 4,
 "nbformat_minor": 2
}
